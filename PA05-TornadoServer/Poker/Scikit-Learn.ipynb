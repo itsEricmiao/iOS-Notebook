{
 "cells": [
  {
   "cell_type": "code",
   "execution_count": 5,
   "metadata": {},
   "outputs": [
    {
     "name": "stdout",
     "output_type": "stream",
     "text": [
      "/Users/ericmiao/opt/anaconda3/bin/python 3.8.3\n"
     ]
    }
   ],
   "source": [
    "import os\n",
    "from platform import python_version\n",
    "import sys\n",
    "print(sys.executable, python_version())\n",
    "\n",
    "directory1 = \"./images/\"\n",
    "directory2 = \"./all_images/\"\n",
    "directory3 = \"./testing/\"\n",
    "image_list = [directory1 + file for file in os.listdir(directory1)]\n",
    "all_image_list = [directory2 + file for file in os.listdir(directory2)]\n",
    "test_image_list = [directory3 + file for file in os.listdir(directory3)]"
   ]
  },
  {
   "cell_type": "code",
   "execution_count": 14,
   "metadata": {},
   "outputs": [],
   "source": [
    "import matplotlib.pyplot as plt\n",
    "from PIL import Image\n",
    "import numpy as np\n",
    "converted_data = []\n",
    "for each_image in image_list:\n",
    "    img_object = Image.open(each_image)\n",
    "    gr_image = img_object.convert('L')\n",
    "    data = np.asarray(gr_image).flatten()\n",
    "    converted_data.append(data)\n",
    "    \n",
    "    \n",
    "X_train = np.array(data)\n",
    "y_train = []\n",
    "\n",
    "labels = [\"4H\", \"6H\", \"7C\"]\n",
    "def get_label(path, labels=labels):  \n",
    "    for label in labels:  \n",
    "        if label in path:  \n",
    "            return label\n",
    "y_train = [get_label(image_list, labels)]"
   ]
  },
  {
   "cell_type": "code",
   "execution_count": 13,
   "metadata": {},
   "outputs": [
    {
     "data": {
      "text/plain": [
       "['./images/6H15.jpg',\n",
       " './images/6H28.jpg',\n",
       " './images/6H14.jpg',\n",
       " './images/6H16.jpg',\n",
       " './images/7C29.jpg',\n",
       " './images/6H13.jpg',\n",
       " './images/7C38.jpg',\n",
       " './images/7C39.jpg',\n",
       " './images/6H12.jpg',\n",
       " './images/6H10.jpg',\n",
       " './images/4H29.jpg',\n",
       " './images/4H28.jpg',\n",
       " './images/6H11.jpg',\n",
       " './images/4H25.jpg',\n",
       " './images/4H19.jpg',\n",
       " './images/7C37.jpg',\n",
       " './images/7C36.jpg',\n",
       " './images/4H30.jpg',\n",
       " './images/4H24.jpg',\n",
       " './images/4H26.jpg',\n",
       " './images/7C34.jpg',\n",
       " './images/7C35.jpg',\n",
       " './images/4H27.jpg',\n",
       " './images/4H23.jpg',\n",
       " './images/7C31.jpg',\n",
       " './images/7C30.jpg',\n",
       " './images/4H22.jpg',\n",
       " './images/6H27.jpg',\n",
       " './images/6H19.jpg',\n",
       " './images/4H20.jpg',\n",
       " './images/7C32.jpg',\n",
       " './images/7C33.jpg',\n",
       " './images/4H21.jpg',\n",
       " './images/7C40.jpg']"
      ]
     },
     "execution_count": 13,
     "metadata": {},
     "output_type": "execute_result"
    }
   ],
   "source": [
    "converted_data[]"
   ]
  },
  {
   "cell_type": "code",
   "execution_count": null,
   "metadata": {},
   "outputs": [],
   "source": []
  }
 ],
 "metadata": {
  "kernelspec": {
   "display_name": "Python 3",
   "language": "python",
   "name": "python3"
  },
  "language_info": {
   "codemirror_mode": {
    "name": "ipython",
    "version": 3
   },
   "file_extension": ".py",
   "mimetype": "text/x-python",
   "name": "python",
   "nbconvert_exporter": "python",
   "pygments_lexer": "ipython3",
   "version": "3.8.3"
  }
 },
 "nbformat": 4,
 "nbformat_minor": 4
}
